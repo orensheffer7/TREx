{
 "cells": [
  {
   "cell_type": "code",
   "execution_count": 16,
   "metadata": {},
   "outputs": [],
   "source": [
    "%matplotlib inline\n",
    "import pandas as pd\n",
    "import collections\n",
    "import itertools\n",
    "import math\n",
    "import random\n",
    "import warnings\n",
    "import time\n",
    "warnings.filterwarnings('ignore')"
   ]
  },
  {
   "cell_type": "code",
   "execution_count": 42,
   "metadata": {},
   "outputs": [],
   "source": [
    "data = [\n",
    "    [\"Real\", \"La Liga\", \"Madrid\", \"Espana\"],\n",
    "    [\"Athletico\", \"La Liga\", \"Madrid\", \"Spain\"],\n",
    "    [\"Barcleona F.C\", \"La Liga\", \"Barcelona\", \"Spain\"],\n",
    "    [\"Athletico\", \"Spanish_League\", \"Madrid\", \"Spain\"],\n",
    "    [\"Real\", \"La Liga\", \"Madrid\", \"Spain\"]\n",
    "]\n",
    "\n",
    "df = pd.DataFrame(data, columns=[\"Team\", \"League\", \"City\", \"Country\"])"
   ]
  },
  {
   "cell_type": "code",
   "execution_count": 52,
   "metadata": {},
   "outputs": [],
   "source": [
    "data = [\n",
    "    [\"birmingham\", \"jefferson\"],\n",
    "    [\"sheffield\", \"jefferson\"],\n",
    "    [\"sheffield\", \"jefferson\"],\n",
    "    [\"birmixgham\", \"jefferson\"],\n",
    "    [\"birmingham\", \"jefferson\"],\n",
    "    [\"sheffield\", \"jeffxrson\"],\n",
    "    [\"sheffield\", \"jefferson\"],\n",
    "    [\"sheffield\", \"jefferson\"],\n",
    "    [\"birmingham\", \"jefferson\"],\n",
    "]\n",
    "\n",
    "df = pd.DataFrame(data, columns=[\"City\", \"County\"])"
   ]
  },
  {
   "cell_type": "code",
   "execution_count": 25,
   "metadata": {},
   "outputs": [
    {
     "data": {
      "text/html": [
       "<div>\n",
       "<style scoped>\n",
       "    .dataframe tbody tr th:only-of-type {\n",
       "        vertical-align: middle;\n",
       "    }\n",
       "\n",
       "    .dataframe tbody tr th {\n",
       "        vertical-align: top;\n",
       "    }\n",
       "\n",
       "    .dataframe thead th {\n",
       "        text-align: right;\n",
       "    }\n",
       "</style>\n",
       "<table border=\"1\" class=\"dataframe\">\n",
       "  <thead>\n",
       "    <tr style=\"text-align: right;\">\n",
       "      <th></th>\n",
       "      <th>Team</th>\n",
       "      <th>League</th>\n",
       "      <th>City</th>\n",
       "      <th>Country</th>\n",
       "    </tr>\n",
       "  </thead>\n",
       "  <tbody>\n",
       "    <tr>\n",
       "      <th>0</th>\n",
       "      <td>Athletico</td>\n",
       "      <td>La Liga</td>\n",
       "      <td>Madrid</td>\n",
       "      <td>Spain</td>\n",
       "    </tr>\n",
       "    <tr>\n",
       "      <th>1</th>\n",
       "      <td>Real</td>\n",
       "      <td>La Liga</td>\n",
       "      <td>Madrid</td>\n",
       "      <td>Spain</td>\n",
       "    </tr>\n",
       "    <tr>\n",
       "      <th>2</th>\n",
       "      <td>Athletico</td>\n",
       "      <td>La Liga</td>\n",
       "      <td>Madrid</td>\n",
       "      <td>Spain</td>\n",
       "    </tr>\n",
       "    <tr>\n",
       "      <th>3</th>\n",
       "      <td>Real</td>\n",
       "      <td>La Liga</td>\n",
       "      <td>Madrid</td>\n",
       "      <td>Espana</td>\n",
       "    </tr>\n",
       "  </tbody>\n",
       "</table>\n",
       "</div>"
      ],
      "text/plain": [
       "        Team   League    City Country\n",
       "0  Athletico  La Liga  Madrid   Spain\n",
       "1       Real  La Liga  Madrid   Spain\n",
       "2  Athletico  La Liga  Madrid   Spain\n",
       "3       Real  La Liga  Madrid  Espana"
      ]
     },
     "execution_count": 25,
     "metadata": {},
     "output_type": "execute_result"
    }
   ],
   "source": [
    "df"
   ]
  },
  {
   "cell_type": "code",
   "execution_count": 32,
   "metadata": {},
   "outputs": [],
   "source": [
    "constraints = [1, 2, 3]"
   ]
  },
  {
   "cell_type": "code",
   "execution_count": 43,
   "metadata": {},
   "outputs": [],
   "source": [
    "def algo(df, constraints):\n",
    "    df_c = df.copy()\n",
    "    if 1 in constraints:\n",
    "        for i, r in df_c.iterrows():\n",
    "            if r.Team != \"NULL\" and r.City != \"NULL\":\n",
    "                errors = df_c[(df_c.Team == r.Team) & (df_c.City != r.City) & (df_c.City != \"NULL\")]\n",
    "                if errors.shape[0] > 0:\n",
    "                    c = collections.Counter(df_c[df_c.Team == r.Team].City)\n",
    "                    if \"NULL\" in c:\n",
    "                        c.pop(\"NULL\")\n",
    "                    if len(c) > 0:\n",
    "                        if c.most_common(1)[0][1] > 1:\n",
    "                            df_c[\"City\"][i] = c.most_common(1)[0][0] \n",
    "\n",
    "    if 2 in constraints:\n",
    "        for i, r in df_c.iterrows():\n",
    "            if r.League != \"NULL\" and r.Country != \"NULL\":\n",
    "                errors = df_c[(df_c.League == r.League) & (df_c.Country != r.Country) & (df_c.Country != \"NULL\")]\n",
    "                if errors.shape[0] > 0:\n",
    "                    c = collections.Counter(df_c[df_c.League == r.League].Country)\n",
    "                    if \"NULL\" in c:\n",
    "                        c.pop(\"NULL\")\n",
    "                    if len(c) > 0:\n",
    "                        if c.most_common(1)[0][1] > 1:\n",
    "                            df_c[\"Country\"][i] = c.most_common(1)[0][0]\n",
    "                                   \n",
    "                        \n",
    "    if 3 in constraints:\n",
    "        for i, r in df_c.iterrows():\n",
    "            if r.City != \"NULL\" and r.Country != \"NULL\":\n",
    "                errors = df_c[(df_c.City == r.City) & (df_c.Country != r.Country) & (df_c.Country != \"NULL\")]\n",
    "                if errors.shape[0] > 0:\n",
    "                    c = collections.Counter(df_c[df_c.City == r.City].Country)\n",
    "                    if \"NULL\" in c:\n",
    "                        c.pop(\"NULL\")\n",
    "                    if len(c) > 0:\n",
    "                        if c.most_common(1)[0][1] > 1:\n",
    "                            df_c[\"Country\"][i] = c.most_common(1)[0][0]\n",
    "\n",
    "\n",
    "    \n",
    "    return df_c"
   ]
  },
  {
   "cell_type": "code",
   "execution_count": 44,
   "metadata": {},
   "outputs": [
    {
     "data": {
      "text/html": [
       "<div>\n",
       "<style scoped>\n",
       "    .dataframe tbody tr th:only-of-type {\n",
       "        vertical-align: middle;\n",
       "    }\n",
       "\n",
       "    .dataframe tbody tr th {\n",
       "        vertical-align: top;\n",
       "    }\n",
       "\n",
       "    .dataframe thead th {\n",
       "        text-align: right;\n",
       "    }\n",
       "</style>\n",
       "<table border=\"1\" class=\"dataframe\">\n",
       "  <thead>\n",
       "    <tr style=\"text-align: right;\">\n",
       "      <th></th>\n",
       "      <th>Team</th>\n",
       "      <th>League</th>\n",
       "      <th>City</th>\n",
       "      <th>Country</th>\n",
       "    </tr>\n",
       "  </thead>\n",
       "  <tbody>\n",
       "    <tr>\n",
       "      <th>0</th>\n",
       "      <td>Athletico</td>\n",
       "      <td>La Liga</td>\n",
       "      <td>Madrid</td>\n",
       "      <td>Spain</td>\n",
       "    </tr>\n",
       "    <tr>\n",
       "      <th>1</th>\n",
       "      <td>Real</td>\n",
       "      <td>La Liga</td>\n",
       "      <td>Madrid</td>\n",
       "      <td>Spain</td>\n",
       "    </tr>\n",
       "    <tr>\n",
       "      <th>2</th>\n",
       "      <td>Athletico</td>\n",
       "      <td>La Liga</td>\n",
       "      <td>Madrid</td>\n",
       "      <td>Spain</td>\n",
       "    </tr>\n",
       "    <tr>\n",
       "      <th>3</th>\n",
       "      <td>Real</td>\n",
       "      <td>La Liga</td>\n",
       "      <td>Madrid</td>\n",
       "      <td>Spain</td>\n",
       "    </tr>\n",
       "  </tbody>\n",
       "</table>\n",
       "</div>"
      ],
      "text/plain": [
       "        Team   League    City Country\n",
       "0  Athletico  La Liga  Madrid   Spain\n",
       "1       Real  La Liga  Madrid   Spain\n",
       "2  Athletico  La Liga  Madrid   Spain\n",
       "3       Real  La Liga  Madrid   Spain"
      ]
     },
     "execution_count": 44,
     "metadata": {},
     "output_type": "execute_result"
    }
   ],
   "source": [
    "algo(df, [1, 2, 3])"
   ]
  },
  {
   "cell_type": "code",
   "execution_count": 45,
   "metadata": {},
   "outputs": [
    {
     "data": {
      "text/html": [
       "<div>\n",
       "<style scoped>\n",
       "    .dataframe tbody tr th:only-of-type {\n",
       "        vertical-align: middle;\n",
       "    }\n",
       "\n",
       "    .dataframe tbody tr th {\n",
       "        vertical-align: top;\n",
       "    }\n",
       "\n",
       "    .dataframe thead th {\n",
       "        text-align: right;\n",
       "    }\n",
       "</style>\n",
       "<table border=\"1\" class=\"dataframe\">\n",
       "  <thead>\n",
       "    <tr style=\"text-align: right;\">\n",
       "      <th></th>\n",
       "      <th>Team</th>\n",
       "      <th>League</th>\n",
       "      <th>City</th>\n",
       "      <th>Country</th>\n",
       "    </tr>\n",
       "  </thead>\n",
       "  <tbody>\n",
       "    <tr>\n",
       "      <th>0</th>\n",
       "      <td>Athletico</td>\n",
       "      <td>La Liga</td>\n",
       "      <td>Madrid</td>\n",
       "      <td>Spain</td>\n",
       "    </tr>\n",
       "    <tr>\n",
       "      <th>1</th>\n",
       "      <td>Real</td>\n",
       "      <td>La Liga</td>\n",
       "      <td>Madrid</td>\n",
       "      <td>Spain</td>\n",
       "    </tr>\n",
       "    <tr>\n",
       "      <th>2</th>\n",
       "      <td>Athletico</td>\n",
       "      <td>La Liga</td>\n",
       "      <td>Madrid</td>\n",
       "      <td>Spain</td>\n",
       "    </tr>\n",
       "    <tr>\n",
       "      <th>3</th>\n",
       "      <td>Real</td>\n",
       "      <td>La Liga</td>\n",
       "      <td>Madrid</td>\n",
       "      <td>Espana</td>\n",
       "    </tr>\n",
       "  </tbody>\n",
       "</table>\n",
       "</div>"
      ],
      "text/plain": [
       "        Team   League    City Country\n",
       "0  Athletico  La Liga  Madrid   Spain\n",
       "1       Real  La Liga  Madrid   Spain\n",
       "2  Athletico  La Liga  Madrid   Spain\n",
       "3       Real  La Liga  Madrid  Espana"
      ]
     },
     "execution_count": 45,
     "metadata": {},
     "output_type": "execute_result"
    }
   ],
   "source": [
    "df"
   ]
  },
  {
   "cell_type": "code",
   "execution_count": 46,
   "metadata": {},
   "outputs": [
    {
     "name": "stdout",
     "output_type": "stream",
     "text": [
      "Done with len 0\n",
      "Done with len 1\n",
      "Done with len 2\n",
      "Done with len 3\n",
      "Done with len 4\n",
      "Done with len 5\n",
      "Done with len 6\n",
      "Done with len 7\n",
      "Done with len 8\n",
      "Done with len 9\n",
      "Done with len 10\n",
      "Done with len 11\n",
      "Done with len 12\n",
      "Done with len 13\n",
      "Done with len 14\n",
      "Done with len 15\n",
      "Done with len 16\n",
      "549.3407602310181\n"
     ]
    }
   ],
   "source": [
    "import time\n",
    "df = df\n",
    "constraints = [1, 2, 3]\n",
    "df_copy = df.copy()\n",
    "cells = list(itertools.product(df.index, list(df_copy.columns)))\n",
    "\n",
    "start = time.time()\n",
    "\n",
    "results_shapp = {}\n",
    "for i in range(len(cells) + 1):\n",
    "    for comb in itertools.combinations(cells, i):\n",
    "        df_c2 = df_copy.copy()\n",
    "        for cell in cells:\n",
    "            if cell not in comb:\n",
    "                df_c2[cell[1]][cell[0]] = \"NULL\"\n",
    "        df_repair = algo(df_c2, constraints)\n",
    "        results_shapp[tuple(sorted(comb))] = int(df_repair[\"Country\"][3]==\"Spain\")\n",
    "    print(\"Done with len \" + str(i))\n",
    "print(time.time() - start)"
   ]
  },
  {
   "cell_type": "code",
   "execution_count": 47,
   "metadata": {},
   "outputs": [
    {
     "name": "stdout",
     "output_type": "stream",
     "text": [
      "(0, 'Team') 0\n",
      "(0, 'League') 368.6868686868665\n",
      "(0, 'City') 368.6868686868665\n",
      "(0, 'Country') 1020.2020202020143\n",
      "(1, 'Team') 0\n",
      "(1, 'League') 368.6868686868665\n",
      "(1, 'City') 368.6868686868665\n",
      "(1, 'Country') 1020.2020202020143\n",
      "(2, 'Team') 0\n",
      "(2, 'League') 368.6868686868665\n",
      "(2, 'City') 368.6868686868665\n",
      "(2, 'Country') 1020.2020202020143\n",
      "(3, 'Team') 0\n",
      "(3, 'League') 742.4242424242383\n",
      "(3, 'City') 742.4242424242383\n",
      "(3, 'Country') 3242.424242424234\n"
     ]
    }
   ],
   "source": [
    "cells = list(itertools.product(df.index, list(df.columns)))\n",
    "# cells.remove((0, 'Country'))\n",
    "\n",
    "for cell_i in cells:\n",
    "    shapley_value = 0\n",
    "    for comb in results_shapp:\n",
    "        if cell_i not in comb:\n",
    "            comb_i = tuple(sorted(tuple((comb + (cell_i,)))))\n",
    "            factor = math.factorial(len(comb)) * math.factorial(len(cells) - len(comb) - 1)\n",
    "            factor /= math.factorial(len(cells))\n",
    "            if results_shapp[comb_i] and not results_shapp[comb]:\n",
    "                shapley_value += factor*(results_shapp[comb_i] - results_shapp[comb])\n",
    "    print(cell_i, shapley_value * 10000)    "
   ]
  },
  {
   "cell_type": "code",
   "execution_count": 42,
   "metadata": {},
   "outputs": [
    {
     "data": {
      "text/html": [
       "<div>\n",
       "<style scoped>\n",
       "    .dataframe tbody tr th:only-of-type {\n",
       "        vertical-align: middle;\n",
       "    }\n",
       "\n",
       "    .dataframe tbody tr th {\n",
       "        vertical-align: top;\n",
       "    }\n",
       "\n",
       "    .dataframe thead th {\n",
       "        text-align: right;\n",
       "    }\n",
       "</style>\n",
       "<table border=\"1\" class=\"dataframe\">\n",
       "  <thead>\n",
       "    <tr style=\"text-align: right;\">\n",
       "      <th></th>\n",
       "      <th>League</th>\n",
       "      <th>City</th>\n",
       "      <th>Country</th>\n",
       "    </tr>\n",
       "  </thead>\n",
       "  <tbody>\n",
       "    <tr>\n",
       "      <th>0</th>\n",
       "      <td>La Liga</td>\n",
       "      <td>Madrid</td>\n",
       "      <td>Espana</td>\n",
       "    </tr>\n",
       "    <tr>\n",
       "      <th>1</th>\n",
       "      <td>La Liga</td>\n",
       "      <td>Madrid</td>\n",
       "      <td>Spain</td>\n",
       "    </tr>\n",
       "    <tr>\n",
       "      <th>2</th>\n",
       "      <td>La Liga</td>\n",
       "      <td>Barcelona</td>\n",
       "      <td>Spain</td>\n",
       "    </tr>\n",
       "    <tr>\n",
       "      <th>3</th>\n",
       "      <td>Spanish_League</td>\n",
       "      <td>Madrid</td>\n",
       "      <td>Spain</td>\n",
       "    </tr>\n",
       "    <tr>\n",
       "      <th>4</th>\n",
       "      <td>La Liga</td>\n",
       "      <td>Madrid</td>\n",
       "      <td>Spain</td>\n",
       "    </tr>\n",
       "    <tr>\n",
       "      <th>5</th>\n",
       "      <td>La Liga</td>\n",
       "      <td>Barcelona</td>\n",
       "      <td>Catalunia</td>\n",
       "    </tr>\n",
       "  </tbody>\n",
       "</table>\n",
       "</div>"
      ],
      "text/plain": [
       "           League       City    Country\n",
       "0         La Liga     Madrid     Espana\n",
       "1         La Liga     Madrid      Spain\n",
       "2         La Liga  Barcelona      Spain\n",
       "3  Spanish_League     Madrid      Spain\n",
       "4         La Liga     Madrid      Spain\n",
       "5         La Liga  Barcelona  Catalunia"
      ]
     },
     "execution_count": 42,
     "metadata": {},
     "output_type": "execute_result"
    }
   ],
   "source": [
    "df"
   ]
  },
  {
   "cell_type": "code",
   "execution_count": 41,
   "metadata": {},
   "outputs": [
    {
     "data": {
      "text/plain": [
       "[(0, 'League'),\n",
       " (0, 'City'),\n",
       " (0, 'Country'),\n",
       " (1, 'League'),\n",
       " (1, 'City'),\n",
       " (1, 'Country'),\n",
       " (2, 'League'),\n",
       " (2, 'City'),\n",
       " (2, 'Country'),\n",
       " (3, 'League'),\n",
       " (3, 'City'),\n",
       " (3, 'Country'),\n",
       " (4, 'League'),\n",
       " (4, 'City'),\n",
       " (4, 'Country'),\n",
       " (5, 'League'),\n",
       " (5, 'City'),\n",
       " (5, 'Country')]"
      ]
     },
     "execution_count": 41,
     "metadata": {},
     "output_type": "execute_result"
    }
   ],
   "source": [
    "cells"
   ]
  },
  {
   "cell_type": "code",
   "execution_count": null,
   "metadata": {},
   "outputs": [],
   "source": []
  }
 ],
 "metadata": {
  "kernelspec": {
   "display_name": "Python 3",
   "language": "python",
   "name": "python3"
  },
  "language_info": {
   "codemirror_mode": {
    "name": "ipython",
    "version": 3
   },
   "file_extension": ".py",
   "mimetype": "text/x-python",
   "name": "python",
   "nbconvert_exporter": "python",
   "pygments_lexer": "ipython3",
   "version": "3.6.7"
  }
 },
 "nbformat": 4,
 "nbformat_minor": 2
}
