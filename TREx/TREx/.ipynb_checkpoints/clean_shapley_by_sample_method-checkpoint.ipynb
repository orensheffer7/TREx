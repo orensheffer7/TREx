{
 "cells": [
  {
   "cell_type": "code",
   "execution_count": 1,
   "metadata": {},
   "outputs": [],
   "source": [
    "%matplotlib inline\n",
    "import pandas as pd\n",
    "import numpy as np\n",
    "import collections\n",
    "\n",
    "import itertools\n",
    "import math\n",
    "import random\n",
    "import warnings\n",
    "import time\n",
    "warnings.filterwarnings('ignore')"
   ]
  },
  {
   "cell_type": "code",
   "execution_count": 2,
   "metadata": {},
   "outputs": [],
   "source": [
    "data = [\n",
    "    [\"Barcelona F.C.\", \"Barcelona\", \"Spain\", \"La Liga\", \"2019\", \"1\"],\n",
    "    [\"Athletico Madrid\", \"Madrid\", \"Spain\", \"La Liga\", \"2019\", \"2\"],\n",
    "    [\"Real Madrid\", \"Madrid\", \"Spain\", \"La Liga\", \"2019\", \"3\"],\n",
    "    [\"Barcelona F.C.\", \"Barcelona\", \"Catalonia\", \"La Liga\", \"2018\", \"1\"],\n",
    "    [\"Athletico Madrid\", \"Capitol\", \"Espana\", \"La Liga\", \"2018\", \"2\"],\n",
    "    [\"Real Madrid\", \"Madrid\", \"Spain\", \"La Liga\", \"2018\", \"3\"],\n",
    "]\n",
    "\n",
    "df = pd.DataFrame(data, columns=[\"Team\", \"City\", \"Country\", \"League\", \"Year\", \"Rank\"])"
   ]
  },
  {
   "cell_type": "code",
   "execution_count": 3,
   "metadata": {},
   "outputs": [
    {
     "data": {
      "text/html": [
       "<div>\n",
       "<style scoped>\n",
       "    .dataframe tbody tr th:only-of-type {\n",
       "        vertical-align: middle;\n",
       "    }\n",
       "\n",
       "    .dataframe tbody tr th {\n",
       "        vertical-align: top;\n",
       "    }\n",
       "\n",
       "    .dataframe thead th {\n",
       "        text-align: right;\n",
       "    }\n",
       "</style>\n",
       "<table border=\"1\" class=\"dataframe\">\n",
       "  <thead>\n",
       "    <tr style=\"text-align: right;\">\n",
       "      <th></th>\n",
       "      <th>Team</th>\n",
       "      <th>City</th>\n",
       "      <th>Country</th>\n",
       "      <th>League</th>\n",
       "      <th>Year</th>\n",
       "      <th>Rank</th>\n",
       "    </tr>\n",
       "  </thead>\n",
       "  <tbody>\n",
       "    <tr>\n",
       "      <th>0</th>\n",
       "      <td>Barcelona F.C.</td>\n",
       "      <td>Barcelona</td>\n",
       "      <td>Spain</td>\n",
       "      <td>La Liga</td>\n",
       "      <td>2019</td>\n",
       "      <td>1</td>\n",
       "    </tr>\n",
       "    <tr>\n",
       "      <th>1</th>\n",
       "      <td>Athletico Madrid</td>\n",
       "      <td>Madrid</td>\n",
       "      <td>Spain</td>\n",
       "      <td>La Liga</td>\n",
       "      <td>2019</td>\n",
       "      <td>2</td>\n",
       "    </tr>\n",
       "    <tr>\n",
       "      <th>2</th>\n",
       "      <td>Real Madrid</td>\n",
       "      <td>Madrid</td>\n",
       "      <td>Spain</td>\n",
       "      <td>La Liga</td>\n",
       "      <td>2019</td>\n",
       "      <td>3</td>\n",
       "    </tr>\n",
       "    <tr>\n",
       "      <th>3</th>\n",
       "      <td>Barcelona F.C.</td>\n",
       "      <td>Barcelona</td>\n",
       "      <td>Catalonia</td>\n",
       "      <td>La Liga</td>\n",
       "      <td>2018</td>\n",
       "      <td>1</td>\n",
       "    </tr>\n",
       "    <tr>\n",
       "      <th>4</th>\n",
       "      <td>Athletico Madrid</td>\n",
       "      <td>Capitol</td>\n",
       "      <td>Espana</td>\n",
       "      <td>La Liga</td>\n",
       "      <td>2018</td>\n",
       "      <td>2</td>\n",
       "    </tr>\n",
       "    <tr>\n",
       "      <th>5</th>\n",
       "      <td>Real Madrid</td>\n",
       "      <td>Madrid</td>\n",
       "      <td>Spain</td>\n",
       "      <td>La Liga</td>\n",
       "      <td>2018</td>\n",
       "      <td>3</td>\n",
       "    </tr>\n",
       "  </tbody>\n",
       "</table>\n",
       "</div>"
      ],
      "text/plain": [
       "               Team       City    Country   League  Year Rank\n",
       "0    Barcelona F.C.  Barcelona      Spain  La Liga  2019    1\n",
       "1  Athletico Madrid     Madrid      Spain  La Liga  2019    2\n",
       "2       Real Madrid     Madrid      Spain  La Liga  2019    3\n",
       "3    Barcelona F.C.  Barcelona  Catalonia  La Liga  2018    1\n",
       "4  Athletico Madrid    Capitol     Espana  La Liga  2018    2\n",
       "5       Real Madrid     Madrid      Spain  La Liga  2018    3"
      ]
     },
     "execution_count": 3,
     "metadata": {},
     "output_type": "execute_result"
    }
   ],
   "source": [
    "df"
   ]
  },
  {
   "cell_type": "code",
   "execution_count": 4,
   "metadata": {},
   "outputs": [],
   "source": [
    "constraints = [1, 2, 3]"
   ]
  },
  {
   "cell_type": "code",
   "execution_count": 5,
   "metadata": {},
   "outputs": [],
   "source": [
    "def algo(df, constraints):\n",
    "    df_c = df.copy()\n",
    "    if 1 in constraints:\n",
    "        for i, r in df_c.iterrows():\n",
    "            if r.Team != \"NULL\" and r.City != \"NULL\":\n",
    "                errors = df_c[(df_c.Team == r.Team) & (df_c.City != r.City) & (df_c.City != \"NULL\")]\n",
    "                if errors.shape[0] > 0:\n",
    "                    c = collections.Counter(df_c[df_c.Team == r.Team].City)\n",
    "                    if \"NULL\" in c:\n",
    "                        c.pop(\"NULL\")\n",
    "                    if len(c) > 0:\n",
    "                        df_c[\"City\"][i] = c.most_common(1)[0][0] \n",
    "\n",
    "    if 2 in constraints:\n",
    "        for i, r in df_c.iterrows():\n",
    "            if r.League != \"NULL\" and r.Country != \"NULL\":\n",
    "                errors = df_c[(df_c.League == r.League) & (df_c.Country != r.Country) & (df_c.Country != \"NULL\")]\n",
    "                if errors.shape[0] > 0:\n",
    "                    c = collections.Counter(df_c[df_c.League == r.League].Country)\n",
    "                    if \"NULL\" in c:\n",
    "                        c.pop(\"NULL\")\n",
    "                    if len(c) > 0:\n",
    "                        df_c[\"Country\"][i] = c.most_common(1)[0][0]\n",
    "                                   \n",
    "                        \n",
    "    if 3 in constraints:\n",
    "        for i, r in df_c.iterrows():\n",
    "            if r.City != \"NULL\" and r.Country != \"NULL\":\n",
    "                errors = df_c[(df_c.City == r.City) & (df_c.Country != r.Country) & (df_c.Country != \"NULL\")]\n",
    "                if errors.shape[0] > 0:\n",
    "                    c = collections.Counter(df_c[df_c.City == r.City].Country)\n",
    "                    if \"NULL\" in c:\n",
    "                        c.pop(\"NULL\")\n",
    "                    if len(c) > 0:\n",
    "                        df_c[\"Country\"][i] = c.most_common(1)[0][0]\n",
    "\n",
    "\n",
    "    \n",
    "    return df_c"
   ]
  },
  {
   "cell_type": "code",
   "execution_count": 6,
   "metadata": {},
   "outputs": [
    {
     "ename": "AttributeError",
     "evalue": "'Series' object has no attribute 'County'",
     "output_type": "error",
     "traceback": [
      "\u001b[1;31m---------------------------------------------------------------------------\u001b[0m",
      "\u001b[1;31mAttributeError\u001b[0m                            Traceback (most recent call last)",
      "\u001b[1;32m<ipython-input-6-adbb95caffaf>\u001b[0m in \u001b[0;36m<module>\u001b[1;34m\u001b[0m\n\u001b[1;32m----> 1\u001b[1;33m \u001b[0malgo\u001b[0m\u001b[1;33m(\u001b[0m\u001b[0mdf\u001b[0m\u001b[1;33m,\u001b[0m \u001b[1;33m[\u001b[0m\u001b[1;36m1\u001b[0m\u001b[1;33m,\u001b[0m \u001b[1;36m2\u001b[0m\u001b[1;33m,\u001b[0m \u001b[1;36m3\u001b[0m\u001b[1;33m]\u001b[0m\u001b[1;33m)\u001b[0m\u001b[1;33m\u001b[0m\u001b[1;33m\u001b[0m\u001b[0m\n\u001b[0m",
      "\u001b[1;32m<ipython-input-5-cebb30c34de8>\u001b[0m in \u001b[0;36malgo\u001b[1;34m(df, constraints)\u001b[0m\n\u001b[0;32m     26\u001b[0m     \u001b[1;32mif\u001b[0m \u001b[1;36m3\u001b[0m \u001b[1;32min\u001b[0m \u001b[0mconstraints\u001b[0m\u001b[1;33m:\u001b[0m\u001b[1;33m\u001b[0m\u001b[1;33m\u001b[0m\u001b[0m\n\u001b[0;32m     27\u001b[0m         \u001b[1;32mfor\u001b[0m \u001b[0mi\u001b[0m\u001b[1;33m,\u001b[0m \u001b[0mr\u001b[0m \u001b[1;32min\u001b[0m \u001b[0mdf_c\u001b[0m\u001b[1;33m.\u001b[0m\u001b[0miterrows\u001b[0m\u001b[1;33m(\u001b[0m\u001b[1;33m)\u001b[0m\u001b[1;33m:\u001b[0m\u001b[1;33m\u001b[0m\u001b[1;33m\u001b[0m\u001b[0m\n\u001b[1;32m---> 28\u001b[1;33m             \u001b[1;32mif\u001b[0m \u001b[0mr\u001b[0m\u001b[1;33m.\u001b[0m\u001b[0mCity\u001b[0m \u001b[1;33m!=\u001b[0m \u001b[1;34m\"NULL\"\u001b[0m \u001b[1;32mand\u001b[0m \u001b[0mr\u001b[0m\u001b[1;33m.\u001b[0m\u001b[0mCounty\u001b[0m \u001b[1;33m!=\u001b[0m \u001b[1;34m\"NULL\"\u001b[0m\u001b[1;33m:\u001b[0m\u001b[1;33m\u001b[0m\u001b[1;33m\u001b[0m\u001b[0m\n\u001b[0m\u001b[0;32m     29\u001b[0m                 \u001b[0merrors\u001b[0m \u001b[1;33m=\u001b[0m \u001b[0mdf_c\u001b[0m\u001b[1;33m[\u001b[0m\u001b[1;33m(\u001b[0m\u001b[0mdf_c\u001b[0m\u001b[1;33m.\u001b[0m\u001b[0mCity\u001b[0m \u001b[1;33m==\u001b[0m \u001b[0mr\u001b[0m\u001b[1;33m.\u001b[0m\u001b[0mCity\u001b[0m\u001b[1;33m)\u001b[0m \u001b[1;33m&\u001b[0m \u001b[1;33m(\u001b[0m\u001b[0mdf_c\u001b[0m\u001b[1;33m.\u001b[0m\u001b[0mCounty\u001b[0m \u001b[1;33m!=\u001b[0m \u001b[0mr\u001b[0m\u001b[1;33m.\u001b[0m\u001b[0mCounty\u001b[0m\u001b[1;33m)\u001b[0m \u001b[1;33m&\u001b[0m \u001b[1;33m(\u001b[0m\u001b[0mdf_c\u001b[0m\u001b[1;33m.\u001b[0m\u001b[0mCounty\u001b[0m \u001b[1;33m!=\u001b[0m \u001b[1;34m\"NULL\"\u001b[0m\u001b[1;33m)\u001b[0m\u001b[1;33m]\u001b[0m\u001b[1;33m\u001b[0m\u001b[1;33m\u001b[0m\u001b[0m\n\u001b[0;32m     30\u001b[0m                 \u001b[1;32mif\u001b[0m \u001b[0merrors\u001b[0m\u001b[1;33m.\u001b[0m\u001b[0mshape\u001b[0m\u001b[1;33m[\u001b[0m\u001b[1;36m0\u001b[0m\u001b[1;33m]\u001b[0m \u001b[1;33m>\u001b[0m \u001b[1;36m0\u001b[0m\u001b[1;33m:\u001b[0m\u001b[1;33m\u001b[0m\u001b[1;33m\u001b[0m\u001b[0m\n",
      "\u001b[1;32mc:\\users\\user\\documents\\gitprojects\\holoclean-provenance\\hc\\lib\\site-packages\\pandas\\core\\generic.py\u001b[0m in \u001b[0;36m__getattr__\u001b[1;34m(self, name)\u001b[0m\n\u001b[0;32m   5065\u001b[0m             \u001b[1;32mif\u001b[0m \u001b[0mself\u001b[0m\u001b[1;33m.\u001b[0m\u001b[0m_info_axis\u001b[0m\u001b[1;33m.\u001b[0m\u001b[0m_can_hold_identifiers_and_holds_name\u001b[0m\u001b[1;33m(\u001b[0m\u001b[0mname\u001b[0m\u001b[1;33m)\u001b[0m\u001b[1;33m:\u001b[0m\u001b[1;33m\u001b[0m\u001b[1;33m\u001b[0m\u001b[0m\n\u001b[0;32m   5066\u001b[0m                 \u001b[1;32mreturn\u001b[0m \u001b[0mself\u001b[0m\u001b[1;33m[\u001b[0m\u001b[0mname\u001b[0m\u001b[1;33m]\u001b[0m\u001b[1;33m\u001b[0m\u001b[1;33m\u001b[0m\u001b[0m\n\u001b[1;32m-> 5067\u001b[1;33m             \u001b[1;32mreturn\u001b[0m \u001b[0mobject\u001b[0m\u001b[1;33m.\u001b[0m\u001b[0m__getattribute__\u001b[0m\u001b[1;33m(\u001b[0m\u001b[0mself\u001b[0m\u001b[1;33m,\u001b[0m \u001b[0mname\u001b[0m\u001b[1;33m)\u001b[0m\u001b[1;33m\u001b[0m\u001b[1;33m\u001b[0m\u001b[0m\n\u001b[0m\u001b[0;32m   5068\u001b[0m \u001b[1;33m\u001b[0m\u001b[0m\n\u001b[0;32m   5069\u001b[0m     \u001b[1;32mdef\u001b[0m \u001b[0m__setattr__\u001b[0m\u001b[1;33m(\u001b[0m\u001b[0mself\u001b[0m\u001b[1;33m,\u001b[0m \u001b[0mname\u001b[0m\u001b[1;33m,\u001b[0m \u001b[0mvalue\u001b[0m\u001b[1;33m)\u001b[0m\u001b[1;33m:\u001b[0m\u001b[1;33m\u001b[0m\u001b[1;33m\u001b[0m\u001b[0m\n",
      "\u001b[1;31mAttributeError\u001b[0m: 'Series' object has no attribute 'County'"
     ]
    }
   ],
   "source": [
    "algo(df, [1, 2, 3])"
   ]
  },
  {
   "cell_type": "code",
   "execution_count": 7,
   "metadata": {},
   "outputs": [
    {
     "data": {
      "text/html": [
       "<div>\n",
       "<style scoped>\n",
       "    .dataframe tbody tr th:only-of-type {\n",
       "        vertical-align: middle;\n",
       "    }\n",
       "\n",
       "    .dataframe tbody tr th {\n",
       "        vertical-align: top;\n",
       "    }\n",
       "\n",
       "    .dataframe thead th {\n",
       "        text-align: right;\n",
       "    }\n",
       "</style>\n",
       "<table border=\"1\" class=\"dataframe\">\n",
       "  <thead>\n",
       "    <tr style=\"text-align: right;\">\n",
       "      <th></th>\n",
       "      <th>Team</th>\n",
       "      <th>City</th>\n",
       "      <th>Country</th>\n",
       "      <th>League</th>\n",
       "      <th>Year</th>\n",
       "      <th>Rank</th>\n",
       "    </tr>\n",
       "  </thead>\n",
       "  <tbody>\n",
       "    <tr>\n",
       "      <th>0</th>\n",
       "      <td>Barcelona F.C.</td>\n",
       "      <td>Barcelona</td>\n",
       "      <td>Spain</td>\n",
       "      <td>La Liga</td>\n",
       "      <td>2019</td>\n",
       "      <td>1</td>\n",
       "    </tr>\n",
       "    <tr>\n",
       "      <th>1</th>\n",
       "      <td>Athletico Madrid</td>\n",
       "      <td>Madrid</td>\n",
       "      <td>Spain</td>\n",
       "      <td>La Liga</td>\n",
       "      <td>2019</td>\n",
       "      <td>2</td>\n",
       "    </tr>\n",
       "    <tr>\n",
       "      <th>2</th>\n",
       "      <td>Real Madrid</td>\n",
       "      <td>Madrid</td>\n",
       "      <td>Spain</td>\n",
       "      <td>La Liga</td>\n",
       "      <td>2019</td>\n",
       "      <td>3</td>\n",
       "    </tr>\n",
       "    <tr>\n",
       "      <th>3</th>\n",
       "      <td>Barcelona F.C.</td>\n",
       "      <td>Barcelona</td>\n",
       "      <td>Catalonia</td>\n",
       "      <td>La Liga</td>\n",
       "      <td>2018</td>\n",
       "      <td>1</td>\n",
       "    </tr>\n",
       "    <tr>\n",
       "      <th>4</th>\n",
       "      <td>Athletico Madrid</td>\n",
       "      <td>Capitol</td>\n",
       "      <td>Espana</td>\n",
       "      <td>La Liga</td>\n",
       "      <td>2018</td>\n",
       "      <td>2</td>\n",
       "    </tr>\n",
       "    <tr>\n",
       "      <th>5</th>\n",
       "      <td>Real Madrid</td>\n",
       "      <td>Madrid</td>\n",
       "      <td>Spain</td>\n",
       "      <td>La Liga</td>\n",
       "      <td>2018</td>\n",
       "      <td>3</td>\n",
       "    </tr>\n",
       "  </tbody>\n",
       "</table>\n",
       "</div>"
      ],
      "text/plain": [
       "               Team       City    Country   League  Year Rank\n",
       "0    Barcelona F.C.  Barcelona      Spain  La Liga  2019    1\n",
       "1  Athletico Madrid     Madrid      Spain  La Liga  2019    2\n",
       "2       Real Madrid     Madrid      Spain  La Liga  2019    3\n",
       "3    Barcelona F.C.  Barcelona  Catalonia  La Liga  2018    1\n",
       "4  Athletico Madrid    Capitol     Espana  La Liga  2018    2\n",
       "5       Real Madrid     Madrid      Spain  La Liga  2018    3"
      ]
     },
     "execution_count": 7,
     "metadata": {},
     "output_type": "execute_result"
    }
   ],
   "source": [
    "df"
   ]
  },
  {
   "cell_type": "code",
   "execution_count": 10,
   "metadata": {},
   "outputs": [
    {
     "name": "stdout",
     "output_type": "stream",
     "text": [
      "{(): False, (1,): False, (2,): True, (3,): False, (1, 2): True, (1, 3): True, (2, 3): True, (1, 2, 3): True}\n"
     ]
    }
   ],
   "source": [
    "results = {}\n",
    "cell = (\"Country\", 4)\n",
    "\n",
    "\n",
    "for i in range(len(constraints) + 1):\n",
    "    for comb in itertools.combinations(constraints, i):\n",
    "        df_repair = algo(df, comb)\n",
    "        results[comb] = df[cell[0]][cell[1]] != df_repair[cell[0]][cell[1]]\n",
    "print (results)"
   ]
  },
  {
   "cell_type": "code",
   "execution_count": 11,
   "metadata": {},
   "outputs": [
    {
     "name": "stdout",
     "output_type": "stream",
     "text": [
      "1 16.666666666666664\n",
      "2 66.66666666666666\n",
      "3 16.666666666666664\n"
     ]
    }
   ],
   "source": [
    "for i in constraints:\n",
    "    shapley_value = 0\n",
    "    for comb in results:\n",
    "        if i not in comb:\n",
    "            \n",
    "            # Find comb_i             \n",
    "            for comb_i in results:\n",
    "                if i in comb_i and len(comb_i) == len(comb) + 1:\n",
    "                    is_match = True\n",
    "                    for x in comb:\n",
    "                        if x not in comb_i:\n",
    "                            is_match = False\n",
    "                    if is_match:\n",
    "                        break\n",
    "            factor = math.factorial(len(comb)) * math.factorial(len(constraints) - len(comb) - 1)\n",
    "            factor /= math.factorial(len(constraints))\n",
    "            shapley_value += factor * (results[comb_i] - results[comb])\n",
    "    print(i, shapley_value*100)"
   ]
  },
  {
   "cell_type": "code",
   "execution_count": 12,
   "metadata": {},
   "outputs": [],
   "source": [
    "def random_combination(iterable, r):\n",
    "    \"Random selection from itertools.combinations(iterable, r)\"\n",
    "    pool = tuple(iterable)\n",
    "    n = len(pool)\n",
    "    indices = sorted(random.Random(time.time()).sample(range(n), r))\n",
    "    return tuple(pool[i] for i in indices)"
   ]
  },
  {
   "cell_type": "code",
   "execution_count": 13,
   "metadata": {},
   "outputs": [],
   "source": [
    "def calc_cell_shap(cell_shap, cell_repair, repeats=10, cols=None):\n",
    "    i_shap, col_shap = cell_shap[0], cell_shap[1]\n",
    "    i_repair, col_repair = cell_repair[0], cell_repair[1]\n",
    "\n",
    "    cells = list(itertools.product(df.index, df.columns if cols is None else cols))\n",
    "    cells.remove((i_repair, col_repair))\n",
    "    cells.remove((i_shap, col_shap))\n",
    "    \n",
    "    shap = 0\n",
    "    for i in range(repeats):\n",
    "        df_c = df.copy()\n",
    "        m = np.random.binomial(len(cells),0.5)\n",
    "        comb = random_combination(cells, m)\n",
    "\n",
    "        for cell in comb:\n",
    "            df_c[cell[1]][cell[0]] = \"NULL\"\n",
    "\n",
    "        df_repair = algo(df_c, constraints)\n",
    "        is_repair_with = df_repair[col_repair][i_repair] == 'Spain'\n",
    "\n",
    "        df_c[col_shap][i_shap] = \"NULL\"\n",
    "\n",
    "        df_repair = algo(df_c, constraints)\n",
    "        is_repair_without = df_repair[col_repair][i_repair] == 'Spain'\n",
    "\n",
    "        a = int(is_repair_with) - int(is_repair_without)\n",
    "        shap += a\n",
    "    \n",
    "    \n",
    "    return shap "
   ]
  },
  {
   "cell_type": "code",
   "execution_count": 30,
   "metadata": {},
   "outputs": [],
   "source": [
    "cols = list(df.columns)\n",
    "cols.remove(\"Rank\")\n",
    "cols.remove(\"Year\")"
   ]
  },
  {
   "cell_type": "code",
   "execution_count": 31,
   "metadata": {},
   "outputs": [
    {
     "name": "stdout",
     "output_type": "stream",
     "text": [
      "27.173850059509277\n"
     ]
    }
   ],
   "source": [
    "cells = list(itertools.product(df.index, cols))\n",
    "cell_repair = (4, \"Country\")\n",
    "cells.remove(cell_repair)\n",
    "\n",
    "results = {}\n",
    "start = time.time()\n",
    "for cell in cells:\n",
    "    results[cell] = calc_cell_shap(cell, cell_repair, repeats=20, cols=cols) \n",
    "print(time.time() - start)"
   ]
  },
  {
   "cell_type": "code",
   "execution_count": 24,
   "metadata": {},
   "outputs": [
    {
     "data": {
      "text/plain": [
       "{(4, 'League'): 13,\n",
       " (1, 'Country'): 4,\n",
       " (2, 'Country'): 4,\n",
       " (0, 'League'): 3,\n",
       " (1, 'League'): 3,\n",
       " (4, 'Team'): 3,\n",
       " (4, 'City'): 2,\n",
       " (0, 'Country'): 1,\n",
       " (1, 'Team'): 1,\n",
       " (2, 'City'): 1,\n",
       " (2, 'League'): 1,\n",
       " (0, 'Team'): 0,\n",
       " (0, 'City'): 0,\n",
       " (0, 'Year'): 0,\n",
       " (0, 'Rank'): 0,\n",
       " (1, 'City'): 0,\n",
       " (1, 'Year'): 0,\n",
       " (1, 'Rank'): 0,\n",
       " (2, 'Team'): 0,\n",
       " (2, 'Year'): 0,\n",
       " (2, 'Rank'): 0,\n",
       " (3, 'Team'): 0,\n",
       " (3, 'City'): 0,\n",
       " (3, 'Country'): 0,\n",
       " (3, 'League'): 0,\n",
       " (3, 'Year'): 0,\n",
       " (3, 'Rank'): 0,\n",
       " (4, 'Year'): 0,\n",
       " (4, 'Rank'): 0,\n",
       " (5, 'Team'): 0,\n",
       " (5, 'Country'): 0,\n",
       " (5, 'League'): 0,\n",
       " (5, 'Year'): 0,\n",
       " (5, 'Rank'): 0,\n",
       " (5, 'City'): -1}"
      ]
     },
     "execution_count": 24,
     "metadata": {},
     "output_type": "execute_result"
    }
   ],
   "source": [
    "results\n",
    "{k: v for k, v in sorted(results.items(), key=lambda item: -item[1])}\n",
    "# print(results.values())"
   ]
  },
  {
   "cell_type": "code",
   "execution_count": null,
   "metadata": {},
   "outputs": [],
   "source": []
  }
 ],
 "metadata": {
  "kernelspec": {
   "display_name": "Python 3",
   "language": "python",
   "name": "python3"
  },
  "language_info": {
   "codemirror_mode": {
    "name": "ipython",
    "version": 3
   },
   "file_extension": ".py",
   "mimetype": "text/x-python",
   "name": "python",
   "nbconvert_exporter": "python",
   "pygments_lexer": "ipython3",
   "version": "3.6.7"
  }
 },
 "nbformat": 4,
 "nbformat_minor": 2
}
